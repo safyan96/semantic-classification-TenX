{
 "cells": [
  {
   "cell_type": "code",
   "execution_count": 25,
   "id": "3e39deb6-6947-4da2-b5cd-6e30b3441eca",
   "metadata": {},
   "outputs": [],
   "source": [
    "import pandas as pd\n",
    "from sklearn.manifold import TSNE\n",
    "import matplotlib.pyplot as plt\n",
    "import seaborn as sns\n",
    "import numpy as np"
   ]
  },
  {
   "cell_type": "code",
   "execution_count": 53,
   "id": "555fc3e2-eeea-4ff9-b356-943b8a8f06f2",
   "metadata": {},
   "outputs": [
    {
     "name": "stdout",
     "output_type": "stream",
     "text": [
      "Most similar sentences to '['xiaomi']':\n",
      "- mobile (Cosine similarity: 0.47098442912101746)\n",
      "- cars (Cosine similarity: 0.20617102086544037)\n",
      "- Food (Cosine similarity: 0.18848836421966553)\n"
     ]
    }
   ],
   "source": [
    "from transformer.infer import SentenceEmbedder\n",
    "\n",
    "if __name__ == \"__main__\":\n",
    "    # Initialize SentenceEmbedder with the model name\n",
    "    embedder = SentenceEmbedder(\"model\")\n",
    "\n",
    "    # Sentences we want sentence embeddings for\n",
    "    query_sentence = [\"xiaomi\"]\n",
    "\n",
    "    # Query sentence\n",
    "    options = [\"Food\", \"mobile\", \"cars\"]\n",
    "\n",
    "    # Get most similar sentences to the query sentence\n",
    "    similar_sentences = embedder.compare_sentence_embeddings(query_sentence, options)\n",
    "\n",
    "    # Print most similar sentences\n",
    "    print(\"Most similar sentences to '{}':\".format(query_sentence))\n",
    "    for sentence, similarity in similar_sentences:\n",
    "        print(\"- {} (Cosine similarity: {})\".format(sentence, similarity))\n"
   ]
  },
  {
   "cell_type": "code",
   "execution_count": 57,
   "id": "6dde3593-7a95-4e0c-b42b-39932a0374b8",
   "metadata": {},
   "outputs": [
    {
     "name": "stdout",
     "output_type": "stream",
     "text": [
      "Most similar sentences to '['xhamster']':\n",
      "- porn (Cosine similarity: 0.22827120125293732)\n",
      "- rabbit (Cosine similarity: 0.22731664776802063)\n",
      "- animal (Cosine similarity: 0.20361948013305664)\n"
     ]
    }
   ],
   "source": [
    "from transformer.infer import SentenceEmbedder\n",
    "\n",
    "if __name__ == \"__main__\":\n",
    "    # Initialize SentenceEmbedder with the model name\n",
    "    embedder = SentenceEmbedder(\"model\")\n",
    "\n",
    "    # Sentences we want sentence embeddings for\n",
    "    query_sentence = [\"xhamster\"]\n",
    "\n",
    "    # Query sentence\n",
    "    options = [\"animal\", \"porn\", \"rabbit\",]\n",
    "\n",
    "    # Get most similar sentences to the query sentence\n",
    "    similar_sentences = embedder.compare_sentence_embeddings(query_sentence, options)\n",
    "\n",
    "    # Print most similar sentences\n",
    "    print(\"Most similar sentences to '{}':\".format(query_sentence))\n",
    "    for sentence, similarity in similar_sentences:\n",
    "        print(\"- {} (Cosine similarity: {})\".format(sentence, similarity))\n"
   ]
  },
  {
   "cell_type": "code",
   "execution_count": 75,
   "id": "02bee5b7-b33b-4895-aa61-6f6b841acade",
   "metadata": {},
   "outputs": [],
   "source": [
    "def get_match(domain='youtube',cats=['a','b','c']):\n",
    "    query_sentence = [domain]\n",
    "\n",
    "    # Query sentence\n",
    "    options = cats\n",
    "\n",
    "    # Get most similar sentences to the query sentence\n",
    "    similar_sentences = embedder.compare_sentence_embeddings(query_sentence, options)\n",
    "    return similar_sentences[:5]"
   ]
  },
  {
   "cell_type": "code",
   "execution_count": 85,
   "id": "24720a6d-09da-4b69-9966-992505de3c19",
   "metadata": {},
   "outputs": [
    {
     "data": {
      "text/plain": [
       "[('Social Media', 0.39762669801712036),\n",
       " ('Porn', 0.3821612596511841),\n",
       " ('Search Engines', 0.28037431836128235),\n",
       " ('Technology & Software', 0.2530478835105896),\n",
       " ('Collaboration & Productivity', 0.22346429526805878)]"
      ]
     },
     "execution_count": 85,
     "metadata": {},
     "output_type": "execute_result"
    }
   ],
   "source": [
    "get_match(domain='quora',cats=domain_cats)"
   ]
  },
  {
   "cell_type": "code",
   "execution_count": 6,
   "id": "a990d708-599c-4328-b61c-3ebf3ba822ce",
   "metadata": {},
   "outputs": [],
   "source": [
    "embedder = SentenceEmbedder(\"model\")\n"
   ]
  },
  {
   "cell_type": "markdown",
   "id": "bb707462-db86-4d65-8053-dddfc2d81f30",
   "metadata": {},
   "source": [
    "# Domain names list"
   ]
  },
  {
   "cell_type": "code",
   "execution_count": 3,
   "id": "95bcd119-59ff-4d71-be23-44b2b231707e",
   "metadata": {},
   "outputs": [],
   "source": [
    "with open('domain_names_ChatGPT.txt', 'r') as f:\n",
    "    domain_names = f.readlines()\n",
    "    domain_names = [domain.strip() for domain in domain_names]"
   ]
  },
  {
   "cell_type": "markdown",
   "id": "9a32496d-3bd1-4204-a614-c06ea5948330",
   "metadata": {},
   "source": [
    "Category list"
   ]
  },
  {
   "cell_type": "code",
   "execution_count": 71,
   "id": "bad8b6eb-d039-46da-b79e-843a2d821baa",
   "metadata": {},
   "outputs": [],
   "source": [
    "with open('domain_names_ChatGPT_categories.txt', 'r') as f:\n",
    "    domain_cats = f.readlines()\n",
    "    domain_cats = [domain_cat.strip() for domain_cat in domain_cats]"
   ]
  },
  {
   "cell_type": "code",
   "execution_count": 72,
   "id": "0f0901ec-cfdf-4359-9857-15e2e8234888",
   "metadata": {},
   "outputs": [
    {
     "data": {
      "text/plain": [
       "['Search Engines',\n",
       " 'Social Media',\n",
       " 'Streaming Services',\n",
       " 'Cloud Storage',\n",
       " 'Online Shopping',\n",
       " 'Technology & Software',\n",
       " 'Education & E-Learning',\n",
       " 'Collaboration & Productivity',\n",
       " 'Email Services',\n",
       " 'Blogging & Website Builders',\n",
       " 'Porn']"
      ]
     },
     "execution_count": 72,
     "metadata": {},
     "output_type": "execute_result"
    }
   ],
   "source": [
    "domain_cats"
   ]
  },
  {
   "cell_type": "code",
   "execution_count": 35,
   "id": "c7ba03c3-0dce-4e61-85ef-f69fafafced2",
   "metadata": {},
   "outputs": [],
   "source": [
    "embeddings = [] \n",
    "for d in domain_names:\n",
    "    embeddings.append(embedder.get_sentence_embeddings(d).numpy())"
   ]
  },
  {
   "cell_type": "code",
   "execution_count": null,
   "id": "bebac66c-4787-4a99-8aa7-d87e5924c0e1",
   "metadata": {},
   "outputs": [],
   "source": []
  },
  {
   "cell_type": "code",
   "execution_count": 19,
   "id": "f405858c-7111-4b47-ab6c-fdb8add82d06",
   "metadata": {},
   "outputs": [],
   "source": [
    "df = pd.DataFrame({'Domains':domain_names,'Embeddings':embeddings})"
   ]
  },
  {
   "cell_type": "code",
   "execution_count": 22,
   "id": "4999458b-1451-470a-8a37-4cc3c3371758",
   "metadata": {},
   "outputs": [],
   "source": [
    "from sklearn.cluster import KMeans\n",
    "from sklearn.manifold import TSNE\n"
   ]
  },
  {
   "cell_type": "code",
   "execution_count": 36,
   "id": "1537a371-60c1-4a99-aa3d-97cabfb7b35e",
   "metadata": {},
   "outputs": [],
   "source": [
    "embeddings = np.concatenate(embeddings)"
   ]
  },
  {
   "cell_type": "code",
   "execution_count": 37,
   "id": "27057e69-8676-4348-b863-40a4f883313c",
   "metadata": {},
   "outputs": [],
   "source": [
    "# Step 2: Apply t-SNE\n",
    "tsne = TSNE(n_components=2, random_state=0)\n",
    "data_tsne = tsne.fit_transform(embeddings)"
   ]
  },
  {
   "cell_type": "code",
   "execution_count": 58,
   "id": "4c4fd3c2-cda2-4a69-91b4-f851982b7fc9",
   "metadata": {},
   "outputs": [
    {
     "name": "stderr",
     "output_type": "stream",
     "text": [
      "C:\\Users\\SafyanMemon\\anaconda3\\envs\\hugging_face\\Lib\\site-packages\\sklearn\\cluster\\_kmeans.py:870: FutureWarning: The default value of `n_init` will change from 10 to 'auto' in 1.4. Set the value of `n_init` explicitly to suppress the warning\n",
      "  warnings.warn(\n",
      "C:\\Users\\SafyanMemon\\anaconda3\\envs\\hugging_face\\Lib\\site-packages\\sklearn\\cluster\\_kmeans.py:1382: UserWarning: KMeans is known to have a memory leak on Windows with MKL, when there are less chunks than available threads. You can avoid it by setting the environment variable OMP_NUM_THREADS=1.\n",
      "  warnings.warn(\n"
     ]
    },
    {
     "data": {
      "image/png": "[encoded data removed]",
      "text/plain": [
       "<Figure size 800x600 with 1 Axes>"
      ]
     },
     "metadata": {},
     "output_type": "display_data"
    }
   ],
   "source": [
    "# Step 3: Apply KMeans\n",
    "kmeans = KMeans(n_clusters=10, random_state=0)\n",
    "clusters = kmeans.fit_predict(data_tsne)\n",
    "\n",
    "# Add the cluster labels to the DataFrame\n",
    "df['cluster'] = clusters\n",
    "\n",
    "# Visualize the clusters\n",
    "plt.figure(figsize=(8, 6))\n",
    "sns.scatterplot(x=data_tsne[:, 0], y=data_tsne[:, 1], hue=clusters, palette='viridis')\n",
    "plt.title('t-SNE Visualization of Clusters')\n",
    "plt.show()"
   ]
  },
  {
   "cell_type": "code",
   "execution_count": 59,
   "id": "f790d102-fef5-4053-80a0-fde2f8fb11d1",
   "metadata": {},
   "outputs": [],
   "source": [
    "df['Clusters'] = clusters"
   ]
  },
  {
   "cell_type": "code",
   "execution_count": 60,
   "id": "d03cb4ec-d76e-419c-a0ef-cde9c845ac46",
   "metadata": {},
   "outputs": [
    {
     "data": {
      "text/html": [
       "<div>\n",
       "<style scoped>\n",
       "    .dataframe tbody tr th:only-of-type {\n",
       "        vertical-align: middle;\n",
       "    }\n",
       "\n",
       "    .dataframe tbody tr th {\n",
       "        vertical-align: top;\n",
       "    }\n",
       "\n",
       "    .dataframe thead th {\n",
       "        text-align: right;\n",
       "    }\n",
       "</style>\n",
       "<table border=\"1\" class=\"dataframe\">\n",
       "  <thead>\n",
       "    <tr style=\"text-align: right;\">\n",
       "      <th></th>\n",
       "      <th>Domains</th>\n",
       "      <th>Embeddings</th>\n",
       "      <th>cluster</th>\n",
       "      <th>Clusters</th>\n",
       "    </tr>\n",
       "  </thead>\n",
       "  <tbody>\n",
       "    <tr>\n",
       "      <th>0</th>\n",
       "      <td>google</td>\n",
       "      <td>[[-0.04219752, -0.013702542, -0.0034124518, 0....</td>\n",
       "      <td>5</td>\n",
       "      <td>5</td>\n",
       "    </tr>\n",
       "    <tr>\n",
       "      <th>1</th>\n",
       "      <td>kzhi</td>\n",
       "      <td>[[-0.058460146, -0.00872801, -0.046693746, -0....</td>\n",
       "      <td>3</td>\n",
       "      <td>3</td>\n",
       "    </tr>\n",
       "    <tr>\n",
       "      <th>2</th>\n",
       "      <td>zemanta</td>\n",
       "      <td>[[-0.052519664, 0.1108933, -0.08358834, 0.0056...</td>\n",
       "      <td>8</td>\n",
       "      <td>8</td>\n",
       "    </tr>\n",
       "    <tr>\n",
       "      <th>3</th>\n",
       "      <td>shalltry</td>\n",
       "      <td>[[0.0018934481, 0.049511734, -0.01593517, -0.0...</td>\n",
       "      <td>0</td>\n",
       "      <td>0</td>\n",
       "    </tr>\n",
       "    <tr>\n",
       "      <th>4</th>\n",
       "      <td>tiktokcdn</td>\n",
       "      <td>[[-0.15029801, 0.016115353, -0.05503337, -0.05...</td>\n",
       "      <td>8</td>\n",
       "      <td>8</td>\n",
       "    </tr>\n",
       "    <tr>\n",
       "      <th>...</th>\n",
       "      <td>...</td>\n",
       "      <td>...</td>\n",
       "      <td>...</td>\n",
       "      <td>...</td>\n",
       "    </tr>\n",
       "    <tr>\n",
       "      <th>101</th>\n",
       "      <td>brazzers</td>\n",
       "      <td>[[-0.050659943, -0.010195114, -0.020236144, 0....</td>\n",
       "      <td>3</td>\n",
       "      <td>3</td>\n",
       "    </tr>\n",
       "    <tr>\n",
       "      <th>102</th>\n",
       "      <td>xnxx</td>\n",
       "      <td>[[-0.05906182, -0.057904776, 0.020419588, -0.0...</td>\n",
       "      <td>9</td>\n",
       "      <td>9</td>\n",
       "    </tr>\n",
       "    <tr>\n",
       "      <th>103</th>\n",
       "      <td>runbox</td>\n",
       "      <td>[[0.097997375, 0.012551945, -0.008453739, 0.03...</td>\n",
       "      <td>6</td>\n",
       "      <td>6</td>\n",
       "    </tr>\n",
       "    <tr>\n",
       "      <th>104</th>\n",
       "      <td>posteo</td>\n",
       "      <td>[[-0.0751486, 0.045807354, -0.032929998, -0.03...</td>\n",
       "      <td>7</td>\n",
       "      <td>7</td>\n",
       "    </tr>\n",
       "    <tr>\n",
       "      <th>105</th>\n",
       "      <td>vivaldi</td>\n",
       "      <td>[[-0.0332437, 0.09433972, -0.034395274, -0.011...</td>\n",
       "      <td>2</td>\n",
       "      <td>2</td>\n",
       "    </tr>\n",
       "  </tbody>\n",
       "</table>\n",
       "<p>106 rows × 4 columns</p>\n",
       "</div>"
      ],
      "text/plain": [
       "       Domains                                         Embeddings  cluster  \\\n",
       "0       google  [[-0.04219752, -0.013702542, -0.0034124518, 0....        5   \n",
       "1         kzhi  [[-0.058460146, -0.00872801, -0.046693746, -0....        3   \n",
       "2      zemanta  [[-0.052519664, 0.1108933, -0.08358834, 0.0056...        8   \n",
       "3     shalltry  [[0.0018934481, 0.049511734, -0.01593517, -0.0...        0   \n",
       "4    tiktokcdn  [[-0.15029801, 0.016115353, -0.05503337, -0.05...        8   \n",
       "..         ...                                                ...      ...   \n",
       "101   brazzers  [[-0.050659943, -0.010195114, -0.020236144, 0....        3   \n",
       "102       xnxx  [[-0.05906182, -0.057904776, 0.020419588, -0.0...        9   \n",
       "103     runbox  [[0.097997375, 0.012551945, -0.008453739, 0.03...        6   \n",
       "104     posteo  [[-0.0751486, 0.045807354, -0.032929998, -0.03...        7   \n",
       "105    vivaldi  [[-0.0332437, 0.09433972, -0.034395274, -0.011...        2   \n",
       "\n",
       "     Clusters  \n",
       "0           5  \n",
       "1           3  \n",
       "2           8  \n",
       "3           0  \n",
       "4           8  \n",
       "..        ...  \n",
       "101         3  \n",
       "102         9  \n",
       "103         6  \n",
       "104         7  \n",
       "105         2  \n",
       "\n",
       "[106 rows x 4 columns]"
      ]
     },
     "execution_count": 60,
     "metadata": {},
     "output_type": "execute_result"
    }
   ],
   "source": [
    "df"
   ]
  },
  {
   "cell_type": "code",
   "execution_count": 64,
   "id": "1f983896-f26a-47cd-b984-90496f865451",
   "metadata": {},
   "outputs": [],
   "source": [
    "df.groupby('Clusters').apply(lambda x: x['Domains']).to_csv('categories.csv')"
   ]
  },
  {
   "cell_type": "code",
   "execution_count": null,
   "id": "d3eeacd4-2d98-4111-b812-759ee69de0cc",
   "metadata": {},
   "outputs": [],
   "source": []
  },
  {
   "cell_type": "code",
   "execution_count": null,
   "id": "57c8f6fb-15a3-4857-a63c-b4b1005be431",
   "metadata": {},
   "outputs": [],
   "source": []
  }
 ],
 "metadata": {
  "kernelspec": {
   "display_name": "Python 3 (ipykernel)",
   "language": "python",
   "name": "python3"
  },
  "language_info": {
   "codemirror_mode": {
    "name": "ipython",
    "version": 3
   },
   "file_extension": ".py",
   "mimetype": "text/x-python",
   "name": "python",
   "nbconvert_exporter": "python",
   "pygments_lexer": "ipython3",
   "version": "3.11.7"
  }
 },
 "nbformat": 4,
 "nbformat_minor": 5
}
